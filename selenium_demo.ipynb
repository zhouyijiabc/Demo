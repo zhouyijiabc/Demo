{
 "cells": [
  {
   "cell_type": "code",
   "execution_count": 2,
   "metadata": {
    "collapsed": true
   },
   "outputs": [],
   "source": [
    "from selenium import webdriver\n",
    "from selenium.webdriver import ChromeOptions\n",
    "from helium import *\n",
    "from time import sleep\n",
    "import json\n",
    "import random\n",
    "import pandas as pd\n",
    "import re\n",
    "import os\n",
    "from selenium.webdriver.common.action_chains import ActionChains\n",
    "import datetime\n",
    "from configparser import ConfigParser\n",
    "\n",
    "config_name = 'doudian_config.ini'\n",
    "\n",
    "cfg = ConfigParser()\n",
    "cfg.read(config_name)\n",
    "def set_config(section, option, text,config_name='doudian_config.ini'):\n",
    "    cfg.set(section, option, text)\n",
    "    with open(config_name, 'w', encoding='utf-8') as f:\n",
    "        cfg.write(f)\n",
    "set_config('DEFAULT','today',str(datetime.date.today()))\n",
    "\n",
    "option = ChromeOptions()\n",
    "option.add_experimental_option('excludeSwitches', ['enable-automation'])\n",
    "option.add_argument('--start-maximized')\n",
    "option.add_experimental_option('useAutomationExtension', False)\n",
    "driver = webdriver.Chrome(options=option, executable_path='chromedriver.exe')"
   ]
  },
  {
   "cell_type": "code",
   "execution_count": 4,
   "outputs": [],
   "source": [
    "url = 'http://www.baidu.com'\n",
    "driver.get(url)"
   ],
   "metadata": {
    "collapsed": false,
    "pycharm": {
     "name": "#%%\n"
    }
   }
  },
  {
   "cell_type": "code",
   "execution_count": 5,
   "outputs": [],
   "source": [
    "driver.set_window_size(800, 800)"
   ],
   "metadata": {
    "collapsed": false,
    "pycharm": {
     "name": "#%%\n"
    }
   }
  },
  {
   "cell_type": "code",
   "execution_count": 12,
   "outputs": [],
   "source": [
    "driver.refresh() # 刷新浏览器"
   ],
   "metadata": {
    "collapsed": false,
    "pycharm": {
     "name": "#%%\n"
    }
   }
  },
  {
   "cell_type": "code",
   "execution_count": 14,
   "outputs": [],
   "source": [
    "driver.minimize_window() # 最小化浏览器"
   ],
   "metadata": {
    "collapsed": false,
    "pycharm": {
     "name": "#%%\n"
    }
   }
  },
  {
   "cell_type": "code",
   "execution_count": 16,
   "outputs": [],
   "source": [
    "driver.maximize_window() # 最大化浏览器"
   ],
   "metadata": {
    "collapsed": false,
    "pycharm": {
     "name": "#%%\n"
    }
   }
  },
  {
   "cell_type": "code",
   "execution_count": 17,
   "outputs": [],
   "source": [
    "driver.find_element_by_id('kw').send_keys('python')\n",
    "driver.find_element_by_id('su').click()"
   ],
   "metadata": {
    "collapsed": false,
    "pycharm": {
     "name": "#%%\n"
    }
   }
  },
  {
   "cell_type": "code",
   "execution_count": 18,
   "outputs": [],
   "source": [
    "driver.back() # 后退"
   ],
   "metadata": {
    "collapsed": false,
    "pycharm": {
     "name": "#%%\n"
    }
   }
  },
  {
   "cell_type": "code",
   "execution_count": 19,
   "outputs": [],
   "source": [
    "driver.forward() # 前进"
   ],
   "metadata": {
    "collapsed": false,
    "pycharm": {
     "name": "#%%\n"
    }
   }
  },
  {
   "cell_type": "code",
   "execution_count": 21,
   "outputs": [
    {
     "name": "stdout",
     "output_type": "stream",
     "text": [
      "python_百度搜索\n"
     ]
    }
   ],
   "source": [
    "print(driver.title)"
   ],
   "metadata": {
    "collapsed": false,
    "pycharm": {
     "name": "#%%\n"
    }
   }
  },
  {
   "cell_type": "code",
   "execution_count": 22,
   "outputs": [
    {
     "name": "stdout",
     "output_type": "stream",
     "text": [
      "chrome\n"
     ]
    }
   ],
   "source": [
    "print(driver.name)"
   ],
   "metadata": {
    "collapsed": false,
    "pycharm": {
     "name": "#%%\n"
    }
   }
  },
  {
   "cell_type": "code",
   "execution_count": 24,
   "outputs": [
    {
     "name": "stdout",
     "output_type": "stream",
     "text": [
      "https://www.baidu.com/s?ie=utf-8&f=8&rsv_bp=1&rsv_idx=1&tn=baidu&wd=python&fenlei=256&rsv_pq=b55c5882000b32f0&rsv_t=8922y1%2BlFxKW3dRyNljtpaiKbqmrOYePuvLcJm%2BVuQqi61hhT6pdrZgv2zU&rqlang=cn&rsv_dl=tb&rsv_enter=0&rsv_sug3=6&rsv_btype=i&inputT=173&rsv_sug4=173&rsv_jmp=fail\n"
     ]
    }
   ],
   "source": [
    "print(driver.current_url)"
   ],
   "metadata": {
    "collapsed": false,
    "pycharm": {
     "name": "#%%\n"
    }
   }
  },
  {
   "cell_type": "code",
   "execution_count": null,
   "outputs": [],
   "source": [
    "print(driver.page_source)"
   ],
   "metadata": {
    "collapsed": false,
    "pycharm": {
     "name": "#%%\n",
     "is_executing": true
    }
   }
  },
  {
   "cell_type": "code",
   "execution_count": 33,
   "outputs": [],
   "source": [
    "search_input = driver.find_element_by_id('kw')\n",
    "search_input_by_class = driver.find_element_by_class_name('s_ipt')\n",
    "for i in range(100):\n",
    "    search_input_by_class.send_keys('hello')\n",
    "    search_input.clear()"
   ],
   "metadata": {
    "collapsed": false,
    "pycharm": {
     "name": "#%%\n"
    }
   }
  },
  {
   "cell_type": "code",
   "execution_count": 34,
   "outputs": [],
   "source": [
    "search_input.send_keys('python')"
   ],
   "metadata": {
    "collapsed": false,
    "pycharm": {
     "name": "#%%\n"
    }
   }
  },
  {
   "cell_type": "code",
   "execution_count": 43,
   "outputs": [
    {
     "name": "stdout",
     "output_type": "stream",
     "text": [
      "http://www.baidu.com/baidu.php?url=Kf0000K5cNxA6dzipUpfSFNIrRo6ePbzZFrps6j8AYNAOLTmzc2-6gcLc_5ePAHvk9GU3dky__99gd99EvIsFBNVdGJ3xfxiWXaJcUO0AOds0UrAYqzLT-kGvOGrX8QpXFczqMoPVLy6Bkamo4kNrw48XlUhNeOIM3CH-xsklvhh8yO1C1HdzgAwu3tSSP8Tco7WShCqTFO_X0zAgX_foMGwtPjb.DY_NR2Ar5Od663rj6t_UPdd7rPhllBMzIPJ4c72s1f_IheF_v20.U1Y10ZDqTZ-YpAq80ZKGm1Ys0ZfqTZ-YpAq80A-V5HczPfKM5yqbXWD0Iybqmh7GuZR0TA-b5HDL0APGujY1PWD0UgfqnH0kPdtknjD4g1csPH7xrjIxn1msnfKopHYs0ZFY5HfL0AFG5HDdr7tznjwxPH010AdW5HD4nW0krjfvnHwxnH0krNtznjRkg1Kxn0KkTA-b5H00TyPGujYs0ZFMIA7M5H00mycqn7ts0ANzu1Ys0ZKs5H00UMus5H08nj0snj0snj00Ugws5H00uAwETjYs0ZFJ5H00uANv5gKW0AuY5H00TA6qn0KET1Ys0AFL5HDs0A4Y5H00TLCq0A71gv-bm1dsTzdMXh410A-bm1dcHbc0TA9YXHY0IA7zuvNY5Hm1g1KxnHRs0ZwdT1YYn1cLnjnLP10zPjbkPHndnHms0ZF-TgfqnHmYPWmdPHbvP1m3P0K1pyfqm1TYP1NBPWTsnjK9rjKbPfKWTvYqwjI7f1c1PDn3rj-an1NDnfK9m1Yk0ZK85H00TydY5H00Tyd15H00XMfqn0KVmdqhThqV5HKxn7tsg1Kxn0Kbmy4dmhNxTAk9Uh-bT1Ysg1Kxn7tsg100TA7Ygvu_myTqn0Kbmv-b5H00ugwGujYVnfK9TLKWm1Ys0ZNspy4Wm1Ys0Z7VuWYs0AuWIgfqn0KGTvP_5H00mywhUA7M5HD0UAuW5H00uAPWujY0IZF9uARqPHDsPj0Y0AFbpyfqfbuDrRnkn1msrjf4n1b4nW01n1-KwHFjPYnkwRwDP1m0mMfqn0KEmgwL5H00ULfqn0KETMKY5H0WnanWnansc10Wna3snj0snj0Wnansc10WQinsQW0snj0snankQW0znjDsn6K3TLwd5HD1rjD1PHc0TNqv5H08PHPxna3sn7tsQW0sg108nj7xna3sP7tsQWb3g108njIxn0KBTdqsThqbpyfqn0KzUv-hUA7M5H00mLmq0A-1gvPsmHYs0APs5H00ugPY5H00mLFW5HDLnjTz&us=newvui&xst=mWdawbf4f1D1PW03Pjb1rHbznjn1rR77nbnLf177wDfLP6715HDYn1R4PHfvPjnYrjnYPHm1nW6dg1czPNtz0gTqTZ-YpAq80gDqTZ-YpAq80gRqnHn3nHndn67Y5HDvPjmvPHR4PW6KUgDqn0cs0BYKmv6quhPxTAnKUZRqn07WUWdBmy-bIfDzPj6dPH0dnHn1&word=&ck=6625.17.186.420.731.630.313.458&shh=www.baidu.com&sht=baidu&wd=\n",
      "------------------------------ 属性开始 ------------------------------\n",
      "6ef4c279-753d-465c-a541-8a021e89eddd\n",
      "{'x': 16, 'y': 817}\n",
      "img\n",
      "{'height': 33, 'width': 101}\n",
      "------------------------------ logo 结束 ------------------------------\n",
      "python-飞桨PaddlePaddle-开源深度学习平台名企\n",
      "设置\n"
     ]
    }
   ],
   "source": [
    "baidu_set = driver.find_element_by_link_text('设置')\n",
    "asd = driver.find_element_by_partial_link_text('开源深度') # 包含这些字的链接\n",
    "print(asd.get_attribute('href')) # 获取元素属性\n",
    "def print_l(text):\n",
    "    print('-'*30, text, '-'*30)\n",
    "print_l('属性开始')\n",
    "logo = driver.find_element_by_class_name('index-logo-src')\n",
    "print(logo.id)\n",
    "print(logo.location)\n",
    "print(logo.tag_name)\n",
    "print(logo.size)\n",
    "\n",
    "print_l('logo 结束')\n",
    "\n",
    "\n",
    "print(asd.text)\n",
    "\n",
    "print(baidu_set.text)"
   ],
   "metadata": {
    "collapsed": false,
    "pycharm": {
     "name": "#%%\n"
    }
   }
  },
  {
   "cell_type": "code",
   "execution_count": 57,
   "outputs": [],
   "source": [
    "\n",
    "from selenium.webdriver.support.select import Select\n",
    "\"\"\"\n",
    "\n",
    "'''1、三种选择某一选项项的方法'''\n",
    "\n",
    "select_by_index()           # 通过索引定位；注意：index索引是从“0”开始。\n",
    "select_by_value()           # 通过value值定位，value标签的属性值。\n",
    "select_by_visible_text()    # 通过文本值定位，即显示在下拉框的值。\n",
    "\n",
    "'''2、三种返回options信息的方法'''\n",
    "\n",
    "options                     # 返回select元素所有的options\n",
    "all_selected_options        # 返回select元素中所有已选中的选项\n",
    "first_selected_options      # 返回select元素中选中的第一个选项\n",
    "\n",
    "\n",
    "'''3、四种取消选中项的方法'''\n",
    "\n",
    "deselect_all                # 取消全部的已选择项\n",
    "deselect_by_index           # 取消已选中的索引项\n",
    "deselect_by_value           # 取消已选中的value值\n",
    "deselect_by_visible_text    # 取消已选中的文本值\n",
    "\n",
    "\"\"\"\n",
    "new = driver.get('file:///J:/Github/Demo/test.html')\n",
    "# 根据索引值选择\n",
    "Select(driver.find_element_by_name('帅哥')).select_by_index('2')\n",
    "# 根据value值选择\n",
    "Select(driver.find_element_by_name('帅哥')).select_by_value('小华')\n",
    "# 根据文本值选择\n",
    "Select(driver.find_element_by_name(\"帅哥\")).select_by_visible_text(\"才哥\")"
   ],
   "metadata": {
    "collapsed": false,
    "pycharm": {
     "name": "#%%\n"
    }
   }
  },
  {
   "cell_type": "code",
   "execution_count": 66,
   "outputs": [
    {
     "name": "stdout",
     "output_type": "stream",
     "text": [
      "['才哥', '小明', '小华', '小草']\n",
      "['小华']\n",
      "小华\n"
     ]
    }
   ],
   "source": [
    "# 返回select元素所有的options\n",
    "options = Select(driver.find_element_by_name('帅哥')).options\n",
    "print([i.text for i in options])\n",
    "# 返回select元素中所有已选中的选项\n",
    "all_selected = Select(driver.find_element_by_name('帅哥')).all_selected_options\n",
    "print([i.text for i in all_selected])\n",
    "# 返回select元素中选中的第一个选项\n",
    "first_selected = Select(driver.find_element_by_name('帅哥')).first_selected_option\n",
    "print(first_selected.text)"
   ],
   "metadata": {
    "collapsed": false,
    "pycharm": {
     "name": "#%%\n"
    }
   }
  }
 ],
 "metadata": {
  "kernelspec": {
   "display_name": "Python 3",
   "language": "python",
   "name": "python3"
  },
  "language_info": {
   "codemirror_mode": {
    "name": "ipython",
    "version": 2
   },
   "file_extension": ".py",
   "mimetype": "text/x-python",
   "name": "python",
   "nbconvert_exporter": "python",
   "pygments_lexer": "ipython2",
   "version": "2.7.6"
  }
 },
 "nbformat": 4,
 "nbformat_minor": 0
}